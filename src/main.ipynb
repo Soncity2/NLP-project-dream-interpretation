{
 "cells": [
  {
   "cell_type": "code",
   "execution_count": 1,
   "metadata": {},
   "outputs": [],
   "source": [
    "from utility import load_data"
   ]
  },
  {
   "cell_type": "code",
   "execution_count": 2,
   "metadata": {},
   "outputs": [
    {
     "name": "stdout",
     "output_type": "stream",
     "text": [
      "   dream_id dreamer               description dream_date dream_language  \\\n",
      "0         1    alta  Alta: a detailed dreamer       1957             en   \n",
      "1         2    alta  Alta: a detailed dreamer  8/11/1967             en   \n",
      "2         3    alta  Alta: a detailed dreamer   8/1/1985             en   \n",
      "3         4    alta  Alta: a detailed dreamer      1985?             en   \n",
      "4         5    alta  Alta: a detailed dreamer      1985?             en   \n",
      "5         6    alta  Alta: a detailed dreamer      1985?             en   \n",
      "6         7    alta  Alta: a detailed dreamer      1985?             en   \n",
      "7         8    alta  Alta: a detailed dreamer      1985?             en   \n",
      "8         9    alta  Alta: a detailed dreamer      1985?             en   \n",
      "9        10    alta  Alta: a detailed dreamer      1985?             en   \n",
      "\n",
      "                                          text_dream  \\\n",
      "0  The one at the Meads's house, where it's bigge...   \n",
      "1  I'm at a family reunion in a large fine house ...   \n",
      "2  I watch a plane fly past and shortly realize i...   \n",
      "3  Me pulling the green leaves and berries off so...   \n",
      "4  I'm in a room that reminds me of (but definite...   \n",
      "5  Living next door to Loretta in an apartment - ...   \n",
      "6  Kidnapped - I'm on my way somewhere else (by c...   \n",
      "7  I'm alone in an apartment - old place, inside ...   \n",
      "8  I'm somewhere with a friend I don't want to be...   \n",
      "9  I am in some public place, reminds me of the g...   \n",
      "\n",
      "                                     characters_code  \\\n",
      "0                       2ISA, 1MKA, 1FDA, 1IOA, 2ISA   \n",
      "1                                 2ISA, people, 2ISA   \n",
      "2           2ISA, 2ISA, 1FSA, 1MBA, 1IOA, 2ISA, 2FDA   \n",
      "3  1MAA, 1FMA, 2ISA, 2IKA, 1ANI, 1ANI, 1IOA, 2ISA...   \n",
      "4                 1IRA, 1MSA, 1ISA, 2ISA, 1ISA, 1IKA   \n",
      "5                             1FSA, 2ISA, 1FDA, 1IIC   \n",
      "6           2ISA, 2IOA, 1IOA, 1ISA, 2IKA, 2ISA, 2ISA   \n",
      "7                                   2ISA, 1ISA, 1ISA   \n",
      "8                       1IKA, stepfather, 1ISB, 1MSA   \n",
      "9                                         2ISA, 1MKA   \n",
      "\n",
      "                           emotions_code  \\\n",
      "0                                    NaN   \n",
      "1                                SD 2IKA   \n",
      "2                    SD 1ISA, AP D, AP D   \n",
      "3                          SD 2ISA, SD D   \n",
      "4  AP D, AP D, AP 1MSA, CO D, SD D, AP D   \n",
      "5                                HA 1FSA   \n",
      "6           AN 1ISA, AN D, SD 2ISA, AN D   \n",
      "7                             AP D, SD D   \n",
      "8                                    NaN   \n",
      "9                                    NaN   \n",
      "\n",
      "                                     aggression_code        friendliness_code  \\\n",
      "0                                           2IKA > Q                2IKA 4> Q   \n",
      "1                                    D > Q, Q > 2ISA                      NaN   \n",
      "2                       It PRP >, It PRP >, D > 1FKA                      NaN   \n",
      "3                Q > Q, 2ISA > Q, 2ISA > Q, D > 1MSA  1IKA 4> Q, 2ISA 4> 2ISA   \n",
      "4  1MSA > D, Q > Q, D > 2IKA, D > 2IKA, D > 1MSA,...                   D 4> Q   \n",
      "5                                           D > 2IKA                      NaN   \n",
      "6  Q > 2IKA, D > 2ISA, D > Q, 2IKA > D, D > Q, 1I...                      NaN   \n",
      "7  D > D, 1MSA > D, 1MSA > D, D > 1MSA, D > D, D ...                   D 4> D   \n",
      "8                                              D > Q                      NaN   \n",
      "9                                                NaN                      NaN   \n",
      "\n",
      "   ...      Male    Animal   Friends    Family  Dead&Imaginary  \\\n",
      "0  ...  0.500000  0.000000  0.200000  0.200000             0.0   \n",
      "1  ...  0.000000  0.000000  0.000000  0.000000             0.0   \n",
      "2  ...  0.333333  0.000000  0.000000  0.285714             0.0   \n",
      "3  ...  0.666667  0.176471  0.142857  0.142857             0.0   \n",
      "4  ...  1.000000  0.000000  0.166667  0.166667             0.0   \n",
      "5  ...  0.000000  0.000000  0.000000  0.500000             0.0   \n",
      "6  ...  0.000000  0.000000  0.142857  0.000000             0.0   \n",
      "7  ...  0.000000  0.000000  0.000000  0.000000             0.0   \n",
      "8  ...  1.000000  0.000000  0.250000  0.000000             0.0   \n",
      "9  ...  1.000000  0.000000  0.500000  0.000000             0.0   \n",
      "\n",
      "   Aggression/Friendliness  A/CIndex  F/CIndex  S/CIndex  NegativeEmotions  \n",
      "0                 0.000000  0.200000  0.200000       0.0               0.0  \n",
      "1                 1.000000  0.666667  0.000000       0.0               1.0  \n",
      "2                 1.000000  0.428571  0.000000       0.0               1.0  \n",
      "3                 1.000000  0.235294  0.117647       0.0               1.0  \n",
      "4                 0.875000  1.333333  0.166667       0.0               1.0  \n",
      "5                 1.000000  0.250000  0.000000       0.0               0.0  \n",
      "6                 1.000000  1.571429  0.000000       0.0               1.0  \n",
      "7                 0.888889  2.666667  0.333333       0.0               1.0  \n",
      "8                 1.000000  0.250000  0.000000       0.0               0.0  \n",
      "9                 0.000000  0.000000  0.000000       0.0               0.0  \n",
      "\n",
      "[10 rows x 21 columns]\n"
     ]
    }
   ],
   "source": [
    "dryad_data = load_data('data/rsos_dream_data.tsv')\n",
    "#paperswithcode_data = load_json_data('path_to_paperswithcode_dataset.json')\n",
    "\n",
    "# Show basic stats\n",
    "print(dryad_data.head(10))\n",
    "#print(paperswithcode_data.head())"
   ]
  },
  {
   "cell_type": "code",
   "execution_count": 3,
   "metadata": {},
   "outputs": [
    {
     "name": "stdout",
     "output_type": "stream",
     "text": [
      "<class 'pandas.core.frame.DataFrame'>\n",
      "RangeIndex: 21000 entries, 0 to 20999\n",
      "Data columns (total 21 columns):\n",
      " #   Column                   Non-Null Count  Dtype  \n",
      "---  ------                   --------------  -----  \n",
      " 0   dream_id                 21000 non-null  int64  \n",
      " 1   dreamer                  21000 non-null  object \n",
      " 2   description              21000 non-null  object \n",
      " 3   dream_date               21000 non-null  object \n",
      " 4   dream_language           21000 non-null  object \n",
      " 5   text_dream               21000 non-null  object \n",
      " 6   characters_code          20532 non-null  object \n",
      " 7   emotions_code            11086 non-null  object \n",
      " 8   aggression_code          15432 non-null  object \n",
      " 9   friendliness_code        11239 non-null  object \n",
      " 10  sexuality_code           6470 non-null   object \n",
      " 11  Male                     21000 non-null  float64\n",
      " 12  Animal                   21000 non-null  float64\n",
      " 13  Friends                  21000 non-null  float64\n",
      " 14  Family                   21000 non-null  float64\n",
      " 15  Dead&Imaginary           21000 non-null  float64\n",
      " 16  Aggression/Friendliness  21000 non-null  float64\n",
      " 17  A/CIndex                 21000 non-null  float64\n",
      " 18  F/CIndex                 21000 non-null  float64\n",
      " 19  S/CIndex                 21000 non-null  float64\n",
      " 20  NegativeEmotions         21000 non-null  float64\n",
      "dtypes: float64(10), int64(1), object(10)\n",
      "memory usage: 3.4+ MB\n",
      "None\n"
     ]
    }
   ],
   "source": [
    "# Get basic dataset info\n",
    "print(dryad_data.info())\n",
    "#print(paperswithcode_data.info())"
   ]
  }
 ],
 "metadata": {
  "kernelspec": {
   "display_name": ".venv",
   "language": "python",
   "name": "python3"
  },
  "language_info": {
   "codemirror_mode": {
    "name": "ipython",
    "version": 3
   },
   "file_extension": ".py",
   "mimetype": "text/x-python",
   "name": "python",
   "nbconvert_exporter": "python",
   "pygments_lexer": "ipython3",
   "version": "3.9.6"
  }
 },
 "nbformat": 4,
 "nbformat_minor": 2
}
